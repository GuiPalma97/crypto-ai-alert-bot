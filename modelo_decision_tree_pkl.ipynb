{
  "nbformat": 4,
  "nbformat_minor": 0,
  "metadata": {
    "colab": {
      "provenance": []
    },
    "kernelspec": {
      "name": "python3",
      "display_name": "Python 3"
    },
    "language_info": {
      "name": "python"
    }
  },
  "cells": [
    {
      "cell_type": "code",
      "execution_count": 1,
      "metadata": {
        "colab": {
          "base_uri": "https://localhost:8080/",
          "height": 383
        },
        "id": "hs7jH3EwbP3k",
        "outputId": "04b40536-3796-4faf-d2e7-7a2502790808"
      },
      "outputs": [
        {
          "output_type": "error",
          "ename": "ModuleNotFoundError",
          "evalue": "No module named 'ta'",
          "traceback": [
            "\u001b[0;31m---------------------------------------------------------------------------\u001b[0m",
            "\u001b[0;31mModuleNotFoundError\u001b[0m                       Traceback (most recent call last)",
            "\u001b[0;32m<ipython-input-1-79358d53a24f>\u001b[0m in \u001b[0;36m<cell line: 0>\u001b[0;34m()\u001b[0m\n\u001b[1;32m      1\u001b[0m \u001b[0;32mimport\u001b[0m \u001b[0mpandas\u001b[0m \u001b[0;32mas\u001b[0m \u001b[0mpd\u001b[0m\u001b[0;34m\u001b[0m\u001b[0;34m\u001b[0m\u001b[0m\n\u001b[0;32m----> 2\u001b[0;31m \u001b[0;32mfrom\u001b[0m \u001b[0mta\u001b[0m\u001b[0;34m.\u001b[0m\u001b[0mmomentum\u001b[0m \u001b[0;32mimport\u001b[0m \u001b[0mRSIIndicator\u001b[0m\u001b[0;34m\u001b[0m\u001b[0;34m\u001b[0m\u001b[0m\n\u001b[0m\u001b[1;32m      3\u001b[0m \u001b[0;32mfrom\u001b[0m \u001b[0mta\u001b[0m\u001b[0;34m.\u001b[0m\u001b[0mvolatility\u001b[0m \u001b[0;32mimport\u001b[0m \u001b[0mBollingerBands\u001b[0m\u001b[0;34m\u001b[0m\u001b[0;34m\u001b[0m\u001b[0m\n\u001b[1;32m      4\u001b[0m \u001b[0;32mfrom\u001b[0m \u001b[0msklearn\u001b[0m\u001b[0;34m.\u001b[0m\u001b[0mtree\u001b[0m \u001b[0;32mimport\u001b[0m \u001b[0mDecisionTreeClassifier\u001b[0m\u001b[0;34m\u001b[0m\u001b[0;34m\u001b[0m\u001b[0m\n\u001b[1;32m      5\u001b[0m \u001b[0;32mfrom\u001b[0m \u001b[0msklearn\u001b[0m\u001b[0;34m.\u001b[0m\u001b[0mmodel_selection\u001b[0m \u001b[0;32mimport\u001b[0m \u001b[0mtrain_test_split\u001b[0m\u001b[0;34m\u001b[0m\u001b[0;34m\u001b[0m\u001b[0m\n",
            "\u001b[0;31mModuleNotFoundError\u001b[0m: No module named 'ta'",
            "",
            "\u001b[0;31m---------------------------------------------------------------------------\u001b[0;32m\nNOTE: If your import is failing due to a missing package, you can\nmanually install dependencies using either !pip or !apt.\n\nTo view examples of installing some common dependencies, click the\n\"Open Examples\" button below.\n\u001b[0;31m---------------------------------------------------------------------------\u001b[0m\n"
          ],
          "errorDetails": {
            "actions": [
              {
                "action": "open_url",
                "actionText": "Open Examples",
                "url": "/notebooks/snippets/importing_libraries.ipynb"
              }
            ]
          }
        }
      ],
      "source": [
        "import pandas as pd\n",
        "from ta.momentum import RSIIndicator\n",
        "from ta.volatility import BollingerBands\n",
        "from sklearn.tree import DecisionTreeClassifier\n",
        "from sklearn.model_selection import train_test_split\n",
        "import joblib\n",
        "import requests\n",
        "\n",
        "def obter_dados_kucoin(par, intervalo='1hour'):\n",
        "    url = f\"https://api.kucoin.com/api/v1/market/candles?type={intervalo}&symbol={par}\"\n",
        "    response = requests.get(url)\n",
        "    data = response.json()\n",
        "    if data['code'] != '200000':\n",
        "        return None\n",
        "    registros = data['data']\n",
        "    df = pd.DataFrame(registros, columns=['timestamp', 'open', 'close', 'high', 'low', 'volume', 'turnover'])\n",
        "    df = df.iloc[::-1]\n",
        "    df['timestamp'] = pd.to_datetime(df['timestamp'], unit='s')\n",
        "    df.set_index('timestamp', inplace=True)\n",
        "    df = df.astype(float)\n",
        "    return df.dropna()\n",
        "\n",
        "par = 'BTC-USDT'\n",
        "df = obter_dados_kucoin(par)\n",
        "df['RSI'] = RSIIndicator(df['close']).rsi()\n",
        "bb = BollingerBands(df['close'])\n",
        "df['Upper'] = bb.bollinger_hband()\n",
        "df['Lower'] = bb.bollinger_lband()\n",
        "df['pct_change'] = df['close'].pct_change()\n",
        "\n",
        "# Definindo alvo: 0 = manter, 1 = compra, 2 = venda, com base na variação futura (próximo período)\n",
        "df['target'] = df['pct_change'].shift(-1).apply(lambda x: 1 if x > 0.005 else (2 if x < -0.005 else 0))\n",
        "\n",
        "df = df.dropna()\n",
        "\n",
        "X = df[['close', 'RSI', 'Upper', 'Lower', 'pct_change']]\n",
        "y = df['target']\n",
        "\n",
        "X_train, X_test, y_train, y_test = train_test_split(X, y, test_size=0.3, random_state=42)\n",
        "\n",
        "clf = DecisionTreeClassifier(max_depth=5, random_state=42)\n",
        "clf.fit(X_train, y_train)\n",
        "\n",
        "joblib.dump(clf, 'modelo_decision_tree.pkl')\n",
        "print(\"Modelo treinado e salvo com sucesso.\")\n"
      ]
    }
  ]
}